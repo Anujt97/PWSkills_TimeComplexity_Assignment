{
 "cells": [
  {
   "cell_type": "markdown",
   "id": "0dfd8a7d",
   "metadata": {},
   "source": [
    "Find time complexity of below code blocks :\n",
    "\n",
    "Problem 1 :\n",
    "\n",
    "\n",
    "def quicksort(arr):\n",
    " if len(arr) <= 1:\n",
    " return arr\n",
    "\n",
    "pivot = arr[len(arr) // 2]\n",
    "\n",
    "left = [x for x in arr if x < pivot]\n",
    "\n",
    "middle = [x for x in arr if x == pivot]\n",
    "\n",
    "right = [x for x in arr if x > pivot]\n",
    "\n",
    "return quicksort(left) + middle + quicksort(right)"
   ]
  },
  {
   "cell_type": "markdown",
   "id": "5a4db089",
   "metadata": {},
   "source": [
    "Answer :- The time complexity of implementation is O(n log n) in the average and best cases.The worst case time complexity can degrade to O(n^2)."
   ]
  },
  {
   "cell_type": "markdown",
   "id": "f986ef75",
   "metadata": {},
   "source": [
    "Problem 2 :- \n",
    "\n",
    "def nested_loop_example(matrix):\n",
    "    rows, cols = len(matrix), len(matrix[0])\n",
    "    total = 0\n",
    "\n",
    "    for i in range(rows):\n",
    "        for j in range(cols):\n",
    "            total += matrix[i][j]\n",
    "\n",
    "    return total\n",
    "\n",
    "\n",
    "\n",
    "Answer :- The worst case time complexity can degrade to O(n^2)."
   ]
  },
  {
   "cell_type": "markdown",
   "id": "5ff6fb5e",
   "metadata": {},
   "source": [
    "Problem 3 :- \n",
    "def example_function(arr):\n",
    "    result = 0\n",
    "\n",
    "    for element in arr:\n",
    "        result += element\n",
    "\n",
    "    return result\n",
    "\n",
    "\n",
    "Answer :- The time complexity of the given program is O(n)"
   ]
  },
  {
   "cell_type": "markdown",
   "id": "ef44aced",
   "metadata": {},
   "source": [
    "Problem 4 :- \n",
    "\n",
    "def longest_increasing_subsequence(nums):\n",
    "    n = len(nums)\n",
    "    lis = [1] * n\n",
    "\n",
    "    for i in range(1, n):\n",
    "        for j in range(0, i):\n",
    "            if nums[i] > nums[j] and lis[i] < lis[j] + 1:\n",
    "                lis[i] = lis[j] + 1\n",
    "                \n",
    "    return max(lis)\n",
    "\n",
    "Answer :- The time complexity of the given program is O(n^2)"
   ]
  },
  {
   "cell_type": "markdown",
   "id": "5a9d086b",
   "metadata": {},
   "source": [
    "Problem 5 :- \n",
    "def mysterious_function(arr):\n",
    "    n = len(arr)\n",
    "    result = 0\n",
    "\n",
    "    for i in range(n):\n",
    "        for j in range(i, n):\n",
    "            result += arr[i] * arr[j]\n",
    "\n",
    "    return result\n",
    "\n",
    "Answer :- The time complexity of the given program is O(n^2)"
   ]
  },
  {
   "cell_type": "markdown",
   "id": "836c10b5",
   "metadata": {},
   "source": [
    "Problem 6 :- Write a recursive function to calculate the sum of digits of a given positive integer.\n",
    "\n",
    " sum_of_digits(123) -> 6\n"
   ]
  },
  {
   "cell_type": "code",
   "execution_count": 1,
   "id": "6d0ee4e5",
   "metadata": {},
   "outputs": [
    {
     "name": "stdout",
     "output_type": "stream",
     "text": [
      "6\n"
     ]
    }
   ],
   "source": [
    "def sum_of_digits(n):\n",
    "    if n < 10:\n",
    "        return n\n",
    "    return n % 10 + sum_of_digits(n // 10)\n",
    "\n",
    "print(sum_of_digits(123))"
   ]
  },
  {
   "cell_type": "markdown",
   "id": "fba19604",
   "metadata": {},
   "source": [
    "Problem 7 :- Write a recursive function to generate the first n numbers of the Fibonacci series.\n",
    "\n",
    " fibonacci_series(6) -> [0, 1, 1, 2, 3, 5]"
   ]
  },
  {
   "cell_type": "code",
   "execution_count": 2,
   "id": "054e3cc8",
   "metadata": {},
   "outputs": [
    {
     "name": "stdout",
     "output_type": "stream",
     "text": [
      "[0, 1, 1, 2, 3, 5]\n"
     ]
    }
   ],
   "source": [
    "def fibonacci_series(n):\n",
    "    if n == 0:\n",
    "        return []\n",
    "    elif n == 1:\n",
    "        return [0]\n",
    "    elif n == 2:\n",
    "        return [0, 1]\n",
    "    else:\n",
    "        series = fibonacci_series(n - 1)\n",
    "        series.append(series[-1] + series[-2])\n",
    "        return series\n",
    "\n",
    "print(fibonacci_series(6))"
   ]
  },
  {
   "cell_type": "markdown",
   "id": "17e4935f",
   "metadata": {},
   "source": [
    "Problem 8 :- Given a set of positive integers and a target sum, write a recursive function to determine if there exists a subset of the integers that adds up to the target sum.\n",
    "\n",
    "\n",
    "subset_sum([3, 34, 4, 12, 5, 2], 9) -> True"
   ]
  },
  {
   "cell_type": "code",
   "execution_count": 3,
   "id": "6c589996",
   "metadata": {},
   "outputs": [
    {
     "name": "stdout",
     "output_type": "stream",
     "text": [
      "True\n"
     ]
    }
   ],
   "source": [
    "def subset_sum(nums, target):\n",
    "    if target == 0:\n",
    "        return True\n",
    "    if not nums:\n",
    "        return False\n",
    "    if nums[-1] > target:\n",
    "        return subset_sum(nums[:-1], target)\n",
    "    return subset_sum(nums[:-1], target) or subset_sum(nums[:-1], target - nums[-1])\n",
    "\n",
    "print(subset_sum([3, 34, 4, 12, 5, 2], 9))"
   ]
  },
  {
   "cell_type": "markdown",
   "id": "78744534",
   "metadata": {},
   "source": [
    "Problem 9 :- Given a non-empty string and a dictionary of words, write a recursive function to determine if the string can be segmented into a space-separated sequence of dictionary words.\n",
    "\n",
    "\n",
    "word_break(\"leetcode\", [\"leet\", \"code\"]) -> True"
   ]
  },
  {
   "cell_type": "code",
   "execution_count": 4,
   "id": "83a0f891",
   "metadata": {},
   "outputs": [
    {
     "name": "stdout",
     "output_type": "stream",
     "text": [
      "True\n"
     ]
    }
   ],
   "source": [
    "def word_break(s, wordDict):\n",
    "    if not s:\n",
    "        return True\n",
    "    for i in range(1, len(s) + 1):\n",
    "        prefix = s[:i]\n",
    "        if prefix in wordDict and word_break(s[i:], wordDict):\n",
    "            return True\n",
    "    return False\n",
    "\n",
    "print(word_break(\"leetcode\", [\"leet\", \"code\"]))"
   ]
  },
  {
   "cell_type": "markdown",
   "id": "6e1328dd",
   "metadata": {},
   "source": [
    "Problem 10 :- Implement a recursive function to solve the N-Queens problem, where you have to place N queens on an N×N chessboard in such a way that no two queens threaten each other.\n",
    "\n",
    "\n",
    "n_queens(4)\n",
    "\n",
    "\n",
    "[\n",
    " [\".Q..\",\n",
    "\n",
    "\"...Q\",\n",
    " \"Q...\",\n",
    " \"..Q.\"],\n",
    "\n",
    "[\"..Q.\",\n",
    " \"Q...\",\n",
    " \"...Q\",\n",
    " \".Q..\"]\n",
    "\n",
    "]"
   ]
  },
  {
   "cell_type": "code",
   "execution_count": 5,
   "id": "b8e332b3",
   "metadata": {},
   "outputs": [
    {
     "name": "stdout",
     "output_type": "stream",
     "text": [
      "[['.Q..', '...Q', 'Q...', '..Q.'], ['..Q.', 'Q...', '...Q', '.Q..']]\n"
     ]
    }
   ],
   "source": [
    "def is_safe(board, row, col):\n",
    "    # Checking if there is any queen in the current column\n",
    "    for i in range(row):\n",
    "        if board[i][col] == 'Q':\n",
    "            return False\n",
    "\n",
    "    # Checking if there is any queen in the left upper diagonal\n",
    "    for i, j in zip(range(row, -1, -1), range(col, -1, -1)):\n",
    "        if board[i][j] == 'Q':\n",
    "            return False\n",
    "\n",
    "    # Checking if there is any queen in the right upper diagonal\n",
    "    for i, j in zip(range(row, -1, -1), range(col, len(board))):\n",
    "        if board[i][j] == 'Q':\n",
    "            return False\n",
    "\n",
    "    return True\n",
    "\n",
    "def solve_n_queens(n):\n",
    "    def backtrack(board, row):\n",
    "        if row == n:\n",
    "            result.append([''.join(row) for row in board])\n",
    "            return\n",
    "\n",
    "        for col in range(n):\n",
    "            if is_safe(board, row, col):\n",
    "                board[row][col] = 'Q'\n",
    "                backtrack(board, row + 1)\n",
    "                board[row][col] = '.'\n",
    "\n",
    "    result = []\n",
    "    empty_board = [['.' for _ in range(n)] for _ in range(n)]\n",
    "    backtrack(empty_board, 0)\n",
    "    return result\n",
    "\n",
    "print(solve_n_queens(4))"
   ]
  },
  {
   "cell_type": "code",
   "execution_count": null,
   "id": "34341e91",
   "metadata": {},
   "outputs": [],
   "source": []
  }
 ],
 "metadata": {
  "kernelspec": {
   "display_name": "Python 3 (ipykernel)",
   "language": "python",
   "name": "python3"
  },
  "language_info": {
   "codemirror_mode": {
    "name": "ipython",
    "version": 3
   },
   "file_extension": ".py",
   "mimetype": "text/x-python",
   "name": "python",
   "nbconvert_exporter": "python",
   "pygments_lexer": "ipython3",
   "version": "3.11.3"
  }
 },
 "nbformat": 4,
 "nbformat_minor": 5
}
